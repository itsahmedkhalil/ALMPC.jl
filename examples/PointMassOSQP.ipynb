{
 "cells": [
  {
   "cell_type": "code",
   "execution_count": 1,
   "metadata": {},
   "outputs": [
    {
     "name": "stderr",
     "output_type": "stream",
     "text": [
      "\u001b[32m\u001b[1m  Activating\u001b[22m\u001b[39m environment at `~/.julia/dev/ALMPC/examples/Project.toml`\n",
      "\u001b[32m\u001b[1mPrecompiling\u001b[22m\u001b[39m project...\n",
      "\u001b[32m  ✓ \u001b[39m\u001b[90mHTTP\u001b[39m\n",
      "\u001b[32m  ✓ \u001b[39m\u001b[90mGR\u001b[39m\n",
      "\u001b[32m  ✓ \u001b[39mPlots\n",
      "  3 dependencies successfully precompiled in 50 seconds (246 already precompiled)\n"
     ]
    }
   ],
   "source": [
    "import Pkg; Pkg.activate(@__DIR__); Pkg.instantiate()\n",
    "#import Pkg; Pkg.activate(joinpath(@__DIR__,\"..\")); Pkg.instantiate()"
   ]
  },
  {
   "cell_type": "code",
   "execution_count": 2,
   "metadata": {},
   "outputs": [
    {
     "name": "stderr",
     "output_type": "stream",
     "text": [
      "┌ Info: Precompiling ALMPC [4af787c9-3890-4ef7-a76d-b0ed3d7a1470]\n",
      "└ @ Base loading.jl:1342\n",
      "\u001b[33m\u001b[1m┌ \u001b[22m\u001b[39m\u001b[33m\u001b[1mWarning: \u001b[22m\u001b[39mPackage ALMPC does not have StaticArrays in its dependencies:\n",
      "\u001b[33m\u001b[1m│ \u001b[22m\u001b[39m- If you have ALMPC checked out for development and have\n",
      "\u001b[33m\u001b[1m│ \u001b[22m\u001b[39m  added StaticArrays as a dependency but haven't updated your primary\n",
      "\u001b[33m\u001b[1m│ \u001b[22m\u001b[39m  environment's manifest file, try `Pkg.resolve()`.\n",
      "\u001b[33m\u001b[1m│ \u001b[22m\u001b[39m- Otherwise you may need to report an issue with ALMPC\n",
      "\u001b[33m\u001b[1m└ \u001b[22m\u001b[39mLoading StaticArrays into ALMPC from project dependency, future warnings for ALMPC are suppressed.\n",
      "┌ Info: Precompiling Plots [91a5bcdd-55d7-5caf-9e0b-520d859cae80]\n",
      "└ @ Base loading.jl:1342\n"
     ]
    }
   ],
   "source": [
    "using ALMPC\n",
    "using StaticArrays\n",
    "using SparseArrays\n",
    "using LinearAlgebra\n",
    "using OSQP\n",
    "using Plots\n",
    "using RobotDynamics\n",
    "using Test"
   ]
  },
  {
   "cell_type": "markdown",
   "metadata": {},
   "source": [
    "## System dynamics ##\n",
    "\n",
    "A 2D point mass $m=2\\; \\text{kg}$ in subject to an input force $F_{ext}$ and viscous friction with coefficient $b = 0.3\\;[N \\cdot \\frac{s}{m}]$.\n",
    "\n",
    "\\begin{equation}\n",
    "\\begin{split}\n",
    "\\dot p &= v\\\\\n",
    "\\dot v &= -\\frac{b}{m}v + \\frac{1}{m}F_{ext}\n",
    "\\end{split}\n",
    "\\end{equation}\n",
    "\n",
    "<span style='color:blue'> \n",
    "\n",
    "\n",
    "#### Continuous System Dynamics:\n",
    "\n",
    "$$ \\underbrace{\\begin{bmatrix}\n",
    "        \\dot{x} \\\\\n",
    "        \\dot{y} \\\\\n",
    "        \\ddot{x} \\\\\n",
    "        \\ddot{y} \n",
    "\\end{bmatrix}}_{\\dot{x}} = \\underbrace{\\begin{bmatrix}\n",
    "        0 & 0 & 1 & 0 \\\\\n",
    "        0 & 0 & 0 & 1 \\\\\n",
    "        0 & 0 & -\\frac{b}{m} & 0 \\\\        \n",
    "        0 & 0 & 0 & -\\frac{b}{m} \n",
    "\\end{bmatrix}}_{\\text{A}} * \\underbrace{\\begin{bmatrix}\n",
    "        x\\\\\n",
    "        y\\\\\n",
    "        \\dot{x}\\\\\n",
    "        \\dot{y} \n",
    "\\end{bmatrix}}_{\\text{x}} + \\underbrace{\\begin{bmatrix}\n",
    "        0 & 0\\\\\n",
    "        0 & 0\\\\\n",
    "        \\frac{1}{m} & 0 \\\\\n",
    "        0 & \\frac{1}{m} \\\\\n",
    "\\end{bmatrix}}_{\\text{B}}* \\underbrace{\\begin{bmatrix}\n",
    "        F_{x}\\\\\n",
    "        F_{y}\n",
    "\\end{bmatrix}}_{\\text{u}}$$\n",
    "</span>\n",
    "\n",
    "\n",
    "<span style='color:red'> \n",
    "    \n",
    "#### Discrete System Dynamics:\n",
    "$$ \\underbrace{\\begin{bmatrix}\n",
    "        \\dot{x} \\\\\n",
    "        \\dot{y} \\\\\n",
    "        \\ddot{x} \\\\\n",
    "        \\ddot{y} \n",
    "\\end{bmatrix}}_{\\dot{x}} = \\underbrace{\\begin{bmatrix}\n",
    "        1 & 0 & Ts & 0 \\\\\n",
    "        0 & 1 & 0 & Ts \\\\\n",
    "        0 & 0 & 1-(\\frac{b}{m}*T_{s}) & 0 \\\\        \n",
    "        0 & 0 & 0 & 1-(\\frac{b}{m}*T_{s}) \n",
    "\\end{bmatrix}}_{\\text{A}} * \\underbrace{\\begin{bmatrix}\n",
    "        x\\\\\n",
    "        y\\\\\n",
    "        \\dot{x}\\\\\n",
    "        \\dot{y} \n",
    "\\end{bmatrix}}_{\\text{x}} + \\underbrace{\\begin{bmatrix}\n",
    "        0 & 0\\\\\n",
    "        0 & 0\\\\\n",
    "        \\frac{1}{m}*T_{s} & 0 \\\\\n",
    "        0 & \\frac{1}{m}*T_{s} \\\\\n",
    "\\end{bmatrix}}_{\\text{B}}* \\underbrace{\\begin{bmatrix}\n",
    "        F_{x}\\\\\n",
    "        F_{y}\n",
    "\\end{bmatrix}}_{\\text{u}}$$\n",
    "\n",
    "</span>\n"
   ]
  },
  {
   "cell_type": "code",
   "execution_count": 3,
   "metadata": {},
   "outputs": [
    {
     "data": {
      "text/plain": [
       "nominal_trajectory (generic function with 1 method)"
      ]
     },
     "execution_count": 3,
     "metadata": {},
     "output_type": "execute_result"
    }
   ],
   "source": [
    "# Planar Point Mass Dynamics\n",
    "function pointmass_dynamics(x,u; mass = 2, damp = 0.3)\n",
    "    xdot = zero(x) \n",
    "    xdot[1] = x[3]\n",
    "    xdot[2] = x[4]\n",
    "    xdot[3] = -(damp/mass)*x[3] + u[1]/mass \n",
    "    xdot[4] = -(damp/mass)*x[4] + u[2]/mass \n",
    "    return xdot\n",
    "end\n",
    "\n",
    "# Classic RK4 integration with zero-order hold on u\n",
    "function rk4(f,x,u,h)\n",
    "    f1 = f(x, u)\n",
    "    f2 = f(x + 0.5*h*f1, u)\n",
    "    f3 = f(x + 0.5*h*f2, u)\n",
    "    f4 = f(x + h*f3, u)\n",
    "    return x + (h/6.0)*(f1 + 2*f2 + 2*f3 + f4)\n",
    "end\n",
    "\n",
    "# Designing a linear trajectory from x0 to xref\n",
    "function nominal_trajectory(x0,N,dt)\n",
    "    Xref = [zero(x0) for k = 1:N]\n",
    "    # Design a trajectory that linearly interpolates from x0 to the origin\n",
    "    for k = 1:N\n",
    "        Xref[k][1:2] .= (N-k)/(N-1)*x0[1:2]\n",
    "    end\n",
    "    for k = 1:N-1\n",
    "        Xref[k][3:4] .= (Xref[2][1:2] - Xref[1][1:2])/dt\n",
    "    end\n",
    "    return SVector{4}.(Xref)\n",
    "end"
   ]
  },
  {
   "cell_type": "code",
   "execution_count": 4,
   "metadata": {},
   "outputs": [],
   "source": [
    "# Setting up the problem\n",
    "dt = 0.05                # Time step [s]\n",
    "Tfinal = 1           # Final time [s]\n",
    "Nt = Int(Tfinal/dt)+1    # Number of time steps\n",
    "\n",
    "Nx = 4  # Number of states\n",
    "Nu = 2  # Number of controls\n",
    "\n",
    "x0 = [3.0, 7.0, -3.0, -1.0]\n",
    "# xfinal = [10.0, 10.0, 0.0, 0.0]\n",
    "ueq = zeros(2)\n",
    "\n",
    "# Generate reference trajectory\n",
    "Xref = nominal_trajectory(x0,Nt,dt)     # Reference trajectory for all states\n",
    "Uref = [copy(ueq) for k = 1:Nt]             # Reference inputs \n",
    "tref = range(0,Tfinal, length=Nt)           # Array of timesteps\n",
    "\n",
    "mass = 2    # Mass [kg]\n",
    "damp = 0.3  # Damping coefficient [N-s/m]\n",
    "\n",
    "# Discretized MPC Model dynamics: x_k+1 = Ad*x_k + Bb*u_k\n",
    "A = [1.0    0.0     dt                   0.0             ;\n",
    "     0.0    1.0     0.0                 dt               ;\n",
    "     0.0    0.0     1-(damp/mass)*dt     0.0             ;\n",
    "     0.0    0.0     0.0                 1-(damp/mass)*dt]    # State Matrix\n",
    "B = zeros(4, 2)                                             # Input Matrix\n",
    "B[3,1] = (1/mass)*dt\n",
    "B[4,2] = (1/mass)*dt\n",
    "\n",
    "# #State Constraints\n",
    "# xmin = [-100.0 -100.0]  \n",
    "# xmax = [100.0 100.0]    \n",
    "\n",
    "# #Control Constraints\n",
    "# umin = [-0.5; -0.5]   \n",
    "# umax = [0.5; 0.5]    \n",
    "\n",
    "# # Constraints input variation with respect to previous sample\n",
    "# Dumin = [-2e-1] \n",
    "# Dumax = [2e-1]\n",
    "\n",
    "# MPC objective function weights\n",
    "Q = Array(10.0*I(Nx));\n",
    "R = Array(.01*I(Nu));\n",
    "Qf = Array(10.0*I(Nx));"
   ]
  },
  {
   "cell_type": "code",
   "execution_count": 5,
   "metadata": {},
   "outputs": [
    {
     "data": {
      "text/plain": [
       "simulate (generic function with 1 method)"
      ]
     },
     "execution_count": 5,
     "metadata": {},
     "output_type": "execute_result"
    }
   ],
   "source": [
    "function get_k(controller, t) \n",
    "    searchsortedlast(controller.times, t)\n",
    "end\n",
    "\n",
    "function get_control(ctrl::ALMPC.MPCController{OSQP.Model}, x, time)\n",
    "    # Update the QP\n",
    "    ALMPC.updateQP!(ctrl, x, time)\n",
    "    OSQP.update!(ctrl.solver, q=ctrl.q, l=ctrl.lb, u=ctrl.ub)\n",
    "\n",
    "    # Solve QP\n",
    "    results = OSQP.solve!(ctrl.solver)\n",
    "    Δu = results.x[1:2]\n",
    "    \n",
    "    k = get_k(ctrl, time)\n",
    "    return ctrl.Uref[k] + Δu \n",
    "end\n",
    "\n",
    "function simulate(f, x0, ctrl; tf=2.0, dt=0.1, w=0.1)\n",
    "    n = ctrl.Nx\n",
    "    m = ctrl.Nu\n",
    "    times = range(0, tf, step=dt)\n",
    "    N = length(times)\n",
    "    X = zeros(length(x0),N)\n",
    "    U = [@SVector zeros(m) for k = 1:N-1]\n",
    "    X[:,1] .= x0\n",
    "\n",
    "    tstart = time_ns()\n",
    "    for k = 1:N-1\n",
    "        U[k] = get_control(ctrl, X[:,k], times[k]) \n",
    "        X[:,k+1] = rk4(f, X[:,k], U[k],dt)\n",
    "    end\n",
    "    tend = time_ns()\n",
    "    rate = N / (tend - tstart) * 1e9\n",
    "    println(\"Controller ran at $rate Hz\")\n",
    "    return X,U,times\n",
    "end"
   ]
  },
  {
   "cell_type": "code",
   "execution_count": 6,
   "metadata": {},
   "outputs": [
    {
     "name": "stdout",
     "output_type": "stream",
     "text": [
      "Controller ran at 752.7143302462043 Hz\n",
      "Xmpc1[:, end] = [2.5383360955829636e-5, 0.00014034218681987265, -1.35995113394247e-5, -7.51904038388654e-5]\n"
     ]
    },
    {
     "data": {
      "text/plain": [
       "4-element Vector{Float64}:\n",
       "  2.5383360955829636e-5\n",
       "  0.00014034218681987265\n",
       " -1.35995113394247e-5\n",
       " -7.51904038388654e-5"
      ]
     },
     "execution_count": 6,
     "metadata": {},
     "output_type": "execute_result"
    }
   ],
   "source": [
    "Nmpc = 15           # MPC Horizon\n",
    "mpc1 = ALMPC.OSQPController(Nx, Nu, Nmpc, Q, R, Qf,A, B, length(Xref))\n",
    "\n",
    "# Provide the reference trajectory\n",
    "mpc1.Xref .= Xref\n",
    "mpc1.Uref .= Uref\n",
    "mpc1.times .= tref\n",
    "\n",
    "# Build the sparse QP matrices\n",
    "ALMPC.buildQP!(mpc1, A,B,Q,R,Qf, tol=1e-6)\n",
    "\n",
    "Xmpc1,Umpc1,tmpc1 = simulate(pointmass_dynamics, x0, mpc1, tf=Nmpc)\n",
    "\n",
    "# @test norm(Xmpc1[end]) < 1e-6  \n",
    "@show Xmpc1[:,end]"
   ]
  },
  {
   "cell_type": "code",
   "execution_count": 7,
   "metadata": {},
   "outputs": [
    {
     "ename": "BoundsError",
     "evalue": "BoundsError: attempt to access 21-element StepRangeLen{Float64, Base.TwicePrecision{Float64}, Base.TwicePrecision{Float64}} at index [1:151]",
     "output_type": "error",
     "traceback": [
      "BoundsError: attempt to access 21-element StepRangeLen{Float64, Base.TwicePrecision{Float64}, Base.TwicePrecision{Float64}} at index [1:151]",
      "",
      "Stacktrace:",
      "  [1] throw_boundserror(A::StepRangeLen{Float64, Base.TwicePrecision{Float64}, Base.TwicePrecision{Float64}}, I::Tuple{UnitRange{Int64}})",
      "    @ Base ./abstractarray.jl:651",
      "  [2] checkbounds",
      "    @ ./abstractarray.jl:616 [inlined]",
      "  [3] getindex(r::StepRangeLen{Float64, Base.TwicePrecision{Float64}, Base.TwicePrecision{Float64}}, s::UnitRange{Int64})",
      "    @ Base ./twiceprecision.jl:466",
      "  [4] gr_draw_segments(series::Plots.Series, x::StepRangeLen{Float64, Base.TwicePrecision{Float64}, Base.TwicePrecision{Float64}}, y::Vector{Float64}, z::Nothing, fillrange::Nothing, clims::Tuple{Float64, Float64})",
      "    @ Plots ~/.julia/packages/Plots/gzYVM/src/backends/gr.jl:1758",
      "  [5] gr_add_series(sp::Plots.Subplot{Plots.GRBackend}, series::Plots.Series)",
      "    @ Plots ~/.julia/packages/Plots/gzYVM/src/backends/gr.jl:1675",
      "  [6] gr_display(sp::Plots.Subplot{Plots.GRBackend}, w::Measures.AbsoluteLength, h::Measures.AbsoluteLength, vp_canvas::Plots.GRViewport{Float64})",
      "    @ Plots ~/.julia/packages/Plots/gzYVM/src/backends/gr.jl:940",
      "  [7] gr_display(plt::Plots.Plot{Plots.GRBackend}, dpi_factor::Int64)",
      "    @ Plots ~/.julia/packages/Plots/gzYVM/src/backends/gr.jl:677",
      "  [8] #517",
      "    @ ~/.julia/packages/Plots/gzYVM/src/backends/gr.jl:1978 [inlined]",
      "  [9] withenv(::Plots.var\"#517#518\"{Plots.Plot{Plots.GRBackend}, Int64}, ::Pair{String, String}, ::Vararg{Pair{String, String}, N} where N)",
      "    @ Base ./env.jl:161",
      " [10] _show(io::IOBuffer, #unused#::MIME{Symbol(\"image/svg+xml\")}, plt::Plots.Plot{Plots.GRBackend})",
      "    @ Plots ~/.julia/packages/Plots/gzYVM/src/backends/gr.jl:1973",
      " [11] #invokelatest#2",
      "    @ ./essentials.jl:708 [inlined]",
      " [12] invokelatest",
      "    @ ./essentials.jl:706 [inlined]",
      " [13] show(io::IOBuffer, m::MIME{Symbol(\"image/svg+xml\")}, plt::Plots.Plot{Plots.GRBackend})",
      "    @ Plots ~/.julia/packages/Plots/gzYVM/src/output.jl:237",
      " [14] sprint(::Function, ::MIME{Symbol(\"image/svg+xml\")}, ::Vararg{Any, N} where N; context::Nothing, sizehint::Int64)",
      "    @ Base ./strings/io.jl:105",
      " [15] sprint",
      "    @ ./strings/io.jl:101 [inlined]",
      " [16] _ijulia_display_dict(plt::Plots.Plot{Plots.GRBackend})",
      "    @ Plots ~/.julia/packages/Plots/gzYVM/src/ijulia.jl:47",
      " [17] display_dict(plt::Plots.Plot{Plots.GRBackend})",
      "    @ Plots ~/.julia/packages/Plots/gzYVM/src/init.jl:110",
      " [18] #invokelatest#2",
      "    @ ./essentials.jl:708 [inlined]",
      " [19] invokelatest",
      "    @ ./essentials.jl:706 [inlined]",
      " [20] execute_request(socket::ZMQ.Socket, msg::IJulia.Msg)",
      "    @ IJulia ~/.julia/packages/IJulia/AQu2H/src/execute_request.jl:112",
      " [21] #invokelatest#2",
      "    @ ./essentials.jl:708 [inlined]",
      " [22] invokelatest",
      "    @ ./essentials.jl:706 [inlined]",
      " [23] eventloop(socket::ZMQ.Socket)",
      "    @ IJulia ~/.julia/packages/IJulia/AQu2H/src/eventloop.jl:8",
      " [24] (::IJulia.var\"#15#18\")()",
      "    @ IJulia ./task.jl:417"
     ]
    }
   ],
   "source": [
    "# x position\n",
    "#@show size(Xmpc1[1,:]), size(tref)\n",
    "plot(tref, Xmpc1[1,:]) "
   ]
  },
  {
   "cell_type": "code",
   "execution_count": null,
   "metadata": {},
   "outputs": [
    {
     "ename": "BoundsError",
     "evalue": "BoundsError: attempt to access 21-element StepRangeLen{Float64, Base.TwicePrecision{Float64}, Base.TwicePrecision{Float64}} at index [1:301]",
     "output_type": "error",
     "traceback": [
      "BoundsError: attempt to access 21-element StepRangeLen{Float64, Base.TwicePrecision{Float64}, Base.TwicePrecision{Float64}} at index [1:301]",
      "",
      "Stacktrace:",
      "  [1] throw_boundserror(A::StepRangeLen{Float64, Base.TwicePrecision{Float64}, Base.TwicePrecision{Float64}}, I::Tuple{UnitRange{Int64}})",
      "    @ Base ./abstractarray.jl:651",
      "  [2] checkbounds",
      "    @ ./abstractarray.jl:616 [inlined]",
      "  [3] getindex(r::StepRangeLen{Float64, Base.TwicePrecision{Float64}, Base.TwicePrecision{Float64}}, s::UnitRange{Int64})",
      "    @ Base ./twiceprecision.jl:466",
      "  [4] gr_draw_segments(series::Plots.Series, x::StepRangeLen{Float64, Base.TwicePrecision{Float64}, Base.TwicePrecision{Float64}}, y::Vector{Float64}, z::Nothing, fillrange::Nothing, clims::Tuple{Float64, Float64})",
      "    @ Plots ~/.julia/packages/Plots/gzYVM/src/backends/gr.jl:1758",
      "  [5] gr_add_series(sp::Plots.Subplot{Plots.GRBackend}, series::Plots.Series)",
      "    @ Plots ~/.julia/packages/Plots/gzYVM/src/backends/gr.jl:1675",
      "  [6] gr_display(sp::Plots.Subplot{Plots.GRBackend}, w::Measures.AbsoluteLength, h::Measures.AbsoluteLength, vp_canvas::Plots.GRViewport{Float64})",
      "    @ Plots ~/.julia/packages/Plots/gzYVM/src/backends/gr.jl:940",
      "  [7] gr_display(plt::Plots.Plot{Plots.GRBackend}, dpi_factor::Int64)",
      "    @ Plots ~/.julia/packages/Plots/gzYVM/src/backends/gr.jl:677",
      "  [8] #517",
      "    @ ~/.julia/packages/Plots/gzYVM/src/backends/gr.jl:1978 [inlined]",
      "  [9] withenv(::Plots.var\"#517#518\"{Plots.Plot{Plots.GRBackend}, Int64}, ::Pair{String, String}, ::Vararg{Pair{String, String}, N} where N)",
      "    @ Base ./env.jl:161",
      " [10] _show(io::IOBuffer, #unused#::MIME{Symbol(\"image/svg+xml\")}, plt::Plots.Plot{Plots.GRBackend})",
      "    @ Plots ~/.julia/packages/Plots/gzYVM/src/backends/gr.jl:1973",
      " [11] #invokelatest#2",
      "    @ ./essentials.jl:708 [inlined]",
      " [12] invokelatest",
      "    @ ./essentials.jl:706 [inlined]",
      " [13] show(io::IOBuffer, m::MIME{Symbol(\"image/svg+xml\")}, plt::Plots.Plot{Plots.GRBackend})",
      "    @ Plots ~/.julia/packages/Plots/gzYVM/src/output.jl:237",
      " [14] sprint(::Function, ::MIME{Symbol(\"image/svg+xml\")}, ::Vararg{Any, N} where N; context::Nothing, sizehint::Int64)",
      "    @ Base ./strings/io.jl:105",
      " [15] sprint",
      "    @ ./strings/io.jl:101 [inlined]",
      " [16] _ijulia_display_dict(plt::Plots.Plot{Plots.GRBackend})",
      "    @ Plots ~/.julia/packages/Plots/gzYVM/src/ijulia.jl:47",
      " [17] display_dict(plt::Plots.Plot{Plots.GRBackend})",
      "    @ Plots ~/.julia/packages/Plots/gzYVM/src/init.jl:110",
      " [18] #invokelatest#2",
      "    @ ./essentials.jl:708 [inlined]",
      " [19] invokelatest",
      "    @ ./essentials.jl:706 [inlined]",
      " [20] execute_request(socket::ZMQ.Socket, msg::IJulia.Msg)",
      "    @ IJulia ~/.julia/packages/IJulia/AQu2H/src/execute_request.jl:112",
      " [21] #invokelatest#2",
      "    @ ./essentials.jl:708 [inlined]",
      " [22] invokelatest",
      "    @ ./essentials.jl:706 [inlined]",
      " [23] eventloop(socket::ZMQ.Socket)",
      "    @ IJulia ~/.julia/packages/IJulia/AQu2H/src/eventloop.jl:8",
      " [24] (::IJulia.var\"#15#18\")()",
      "    @ IJulia ./task.jl:417"
     ]
    }
   ],
   "source": [
    "# y position\n",
    "plot(tref, Xmpc1[2,:])"
   ]
  },
  {
   "cell_type": "code",
   "execution_count": 8,
   "metadata": {},
   "outputs": [
    {
     "ename": "LoadError",
     "evalue": "Expects 20 elements in each col of y, found 150.",
     "output_type": "error",
     "traceback": [
      "Expects 20 elements in each col of y, found 150.",
      "",
      "Stacktrace:",
      "  [1] error(s::String)",
      "    @ Base ./error.jl:33",
      "  [2] _compute_xyz(x::StepRangeLen{Float64, Base.TwicePrecision{Float64}, Base.TwicePrecision{Float64}}, y::Vector{Float64}, z::Nothing, nice_error::Bool)",
      "    @ RecipesPipeline ~/.julia/packages/RecipesPipeline/juxUg/src/series.jl:90",
      "  [3] macro expansion",
      "    @ ~/.julia/packages/RecipesPipeline/juxUg/src/series.jl:140 [inlined]",
      "  [4] apply_recipe(plotattributes::AbstractDict{Symbol, Any}, #unused#::Type{RecipesPipeline.SliceIt}, x::Any, y::Any, z::Any)",
      "    @ RecipesPipeline ~/.julia/packages/RecipesBase/6AijY/src/RecipesBase.jl:299",
      "  [5] _process_userrecipes!(plt::Any, plotattributes::Any, args::Any)",
      "    @ RecipesPipeline ~/.julia/packages/RecipesPipeline/juxUg/src/user_recipe.jl:38",
      "  [6] recipe_pipeline!(plt::Any, plotattributes::Any, args::Any)",
      "    @ RecipesPipeline ~/.julia/packages/RecipesPipeline/juxUg/src/RecipesPipeline.jl:72",
      "  [7] _plot!(plt::Plots.Plot, plotattributes::Any, args::Any)",
      "    @ Plots ~/.julia/packages/Plots/gzYVM/src/plot.jl:225",
      "  [8] plot(::Any, ::Vararg{Any, N} where N; kw::Any)",
      "    @ Plots ~/.julia/packages/Plots/gzYVM/src/plot.jl:102",
      "  [9] plot(::Any, ::Any)",
      "    @ Plots ~/.julia/packages/Plots/gzYVM/src/plot.jl:96",
      " [10] top-level scope",
      "    @ In[8]:2",
      " [11] eval",
      "    @ ./boot.jl:360 [inlined]",
      " [12] include_string(mapexpr::typeof(REPL.softscope), mod::Module, code::String, filename::String)",
      "    @ Base ./loading.jl:1116"
     ]
    }
   ],
   "source": [
    "# x, y Force\n",
    "plot(tref[1:length(tref)-1], Umpc1)"
   ]
  },
  {
   "cell_type": "code",
   "execution_count": null,
   "metadata": {},
   "outputs": [],
   "source": [
    "anim = @animate for i in 1:length(Xmpc1[1,:])\n",
    "    scatter([Xmpc1[1,i]],\n",
    "            [Xmpc1[2,i]], \n",
    "            m = (:circle, 6), \n",
    "            xlims = (0, 20),\n",
    "            ylims = (0, 20),\n",
    "            xlabel = \"x position [m]\",\n",
    "            ylabel = \"y position [m]\")\n",
    "    traj2!(Xref)\n",
    "end every 10;\n",
    "gif(anim, \"state_ref_MPC.gif\")"
   ]
  },
  {
   "cell_type": "code",
   "execution_count": null,
   "metadata": {},
   "outputs": [],
   "source": []
  },
  {
   "cell_type": "code",
   "execution_count": null,
   "metadata": {},
   "outputs": [],
   "source": []
  }
 ],
 "metadata": {
  "kernelspec": {
   "display_name": "Julia 1.6.7",
   "language": "julia",
   "name": "julia-1.6"
  },
  "language_info": {
   "file_extension": ".jl",
   "mimetype": "application/julia",
   "name": "julia",
   "version": "1.6.7"
  },
  "orig_nbformat": 4,
  "vscode": {
   "interpreter": {
    "hash": "e55666fbbf217aa3df372b978577f47b6009e2f78e2ec76a584f49cd54a1e62c"
   }
  }
 },
 "nbformat": 4,
 "nbformat_minor": 2
}
