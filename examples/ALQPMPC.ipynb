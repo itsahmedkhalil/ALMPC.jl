{
 "cells": [
  {
   "cell_type": "code",
   "execution_count": 2,
   "metadata": {},
   "outputs": [
    {
     "name": "stderr",
     "output_type": "stream",
     "text": [
      "┌ Info: Precompiling ALMPC [4af787c9-3890-4ef7-a76d-b0ed3d7a1470]\n",
      "└ @ Base loading.jl:1342\n",
      "\u001b[33m\u001b[1m┌ \u001b[22m\u001b[39m\u001b[33m\u001b[1mWarning: \u001b[22m\u001b[39mPackage ALMPC does not have StaticArrays in its dependencies:\n",
      "\u001b[33m\u001b[1m│ \u001b[22m\u001b[39m- If you have ALMPC checked out for development and have\n",
      "\u001b[33m\u001b[1m│ \u001b[22m\u001b[39m  added StaticArrays as a dependency but haven't updated your primary\n",
      "\u001b[33m\u001b[1m│ \u001b[22m\u001b[39m  environment's manifest file, try `Pkg.resolve()`.\n",
      "\u001b[33m\u001b[1m│ \u001b[22m\u001b[39m- Otherwise you may need to report an issue with ALMPC\n",
      "\u001b[33m\u001b[1m└ \u001b[22m\u001b[39mLoading StaticArrays into ALMPC from project dependency, future warnings for ALMPC are suppressed.\n"
     ]
    }
   ],
   "source": [
    "using ALMPC\n",
    "using OSQP\n",
    "using LinearAlgebra\n",
    "using SparseArrays\n",
    "using Plots\n",
    "using Test"
   ]
  },
  {
   "cell_type": "markdown",
   "metadata": {},
   "source": [
    "## System dynamics ##\n",
    "\n",
    "A 2D point mass $m=1\\; \\text{kg}$ in subject to an input force $F_{ext}$ and viscous friction with coefficient $b = 0.1\\;[N \\cdot \\frac{s}{m}]$.\n",
    "\n",
    "\\begin{equation}\n",
    "\\begin{split}\n",
    "\\dot p &= v\\\\\n",
    "\\dot v &= -\\frac{b}{m}v + \\frac{1}{m}F_{ext}\n",
    "\\end{split}\n",
    "\\end{equation}\n",
    "\n",
    "<span style='color:blue'> \n",
    "\n",
    "\n",
    "#### Continuous System Dynamics:\n",
    "\n",
    "$$ \\underbrace{\\begin{bmatrix}\n",
    "        \\dot{x} \\\\\n",
    "        \\dot{y} \\\\\n",
    "        \\ddot{x} \\\\\n",
    "        \\ddot{y} \n",
    "\\end{bmatrix}}_{\\dot{x}} = \\underbrace{\\begin{bmatrix}\n",
    "        0 & 0 & 1 & 0 \\\\\n",
    "        0 & 0 & 0 & 1 \\\\\n",
    "        0 & 0 & -\\frac{b}{m} & 0 \\\\        \n",
    "        0 & 0 & 0 & -\\frac{b}{m} \n",
    "\\end{bmatrix}}_{\\text{A}} * \\underbrace{\\begin{bmatrix}\n",
    "        x\\\\\n",
    "        y\\\\\n",
    "        \\dot{x}\\\\\n",
    "        \\dot{y} \n",
    "\\end{bmatrix}}_{\\text{x}} + \\underbrace{\\begin{bmatrix}\n",
    "        0 & 0\\\\\n",
    "        0 & 0\\\\\n",
    "        \\frac{1}{m} & 0 \\\\\n",
    "        0 & \\frac{1}{m} \\\\\n",
    "\\end{bmatrix}}_{\\text{B}}* \\underbrace{\\begin{bmatrix}\n",
    "        F_{x}\\\\\n",
    "        F_{y}\n",
    "\\end{bmatrix}}_{\\text{u}}$$\n",
    "</span>\n",
    "\n",
    "\n",
    "<span style='color:red'> \n",
    "    \n",
    "#### Discrete System Dynamics:\n",
    "$$ \\underbrace{\\begin{bmatrix}\n",
    "        \\dot{x} \\\\\n",
    "        \\dot{y} \\\\\n",
    "        \\ddot{x} \\\\\n",
    "        \\ddot{y} \n",
    "\\end{bmatrix}}_{\\dot{x}} = \\underbrace{\\begin{bmatrix}\n",
    "        1 & 0 & Ts & 0 \\\\\n",
    "        0 & 1 & 0 & Ts \\\\\n",
    "        0 & 0 & 1-(\\frac{b}{m}*T_{s}) & 0 \\\\        \n",
    "        0 & 0 & 0 & 1-(\\frac{b}{m}*T_{s}) \n",
    "\\end{bmatrix}}_{\\text{A}} * \\underbrace{\\begin{bmatrix}\n",
    "        x\\\\\n",
    "        y\\\\\n",
    "        \\dot{x}\\\\\n",
    "        \\dot{y} \n",
    "\\end{bmatrix}}_{\\text{x}} + \\underbrace{\\begin{bmatrix}\n",
    "        0 & 0\\\\\n",
    "        0 & 0\\\\\n",
    "        \\frac{1}{m}*T_{s} & 0 \\\\\n",
    "        0 & \\frac{1}{m}*T_{s} \\\\\n",
    "\\end{bmatrix}}_{\\text{B}}* \\underbrace{\\begin{bmatrix}\n",
    "        F_{x}\\\\\n",
    "        F_{y}\n",
    "\\end{bmatrix}}_{\\text{u}}$$\n",
    "\n",
    "</span>\n"
   ]
  },
  {
   "cell_type": "code",
   "execution_count": 3,
   "metadata": {},
   "outputs": [
    {
     "data": {
      "text/plain": [
       "pointmass_dynamics (generic function with 1 method)"
      ]
     },
     "execution_count": 3,
     "metadata": {},
     "output_type": "execute_result"
    }
   ],
   "source": [
    "\"\"\"\n",
    "    System Dynamics of Point Mass\n",
    "\"\"\" \n",
    "const mass = 1.0    # Mass [kg]\n",
    "const damp = 0.1    # Damping coefficient [N-s/m]\n",
    "dt = 0.01           # Time step [s]\n",
    "\n",
    "# State matrix\n",
    "Ad = sparse([   1.0     0.0     dt                   0.0                 ;\n",
    "                0.0     1.0     0.0                  dt                  ;\n",
    "                0.0     0.0     1-(damp/mass)*dt     0.0                 ;\n",
    "                0.0     0.0     0.0                  1-(damp/mass)*dt    ])    \n",
    "\n",
    "# Input matrix\n",
    "Bd = sparse([   0.0             0.0         ;\n",
    "                0.0             0.0         ;\n",
    "                (1/mass)*dt     0.0         ;\n",
    "                0.0             (1/mass)*dt ])\n",
    "\n",
    "# Dynamics of point mass \n",
    "function pointmass_dynamics(x,u; mass = mass, damp = damp)\n",
    "    xdot = zero(x) \n",
    "    xdot[1] = x[3]\n",
    "    xdot[2] = x[4]\n",
    "    xdot[3] = -(damp/mass)*x[3] + u[1]/mass \n",
    "    xdot[4] = -(damp/mass)*x[4] + u[2]/mass \n",
    "    return xdot\n",
    "end"
   ]
  },
  {
   "cell_type": "code",
   "execution_count": 4,
   "metadata": {},
   "outputs": [
    {
     "data": {
      "text/plain": [
       "0.0:0.01:50.0"
      ]
     },
     "execution_count": 4,
     "metadata": {},
     "output_type": "execute_result"
    }
   ],
   "source": [
    "# Number of states (Nx) and inputs (Nu)\n",
    "Nx, Nu = size(Bd)\n",
    "\n",
    "# Input constraints (x,y)\n",
    "umin = [-1, -1]   \n",
    "umax = [1, 1]\n",
    "\n",
    "# State constraints (x, y, ̇x, ̇y)\n",
    "xmin = [-20.0; -20.0; -Inf; -Inf]  \n",
    "xmax = [10.0; 10.0; Inf; Inf] \n",
    "\n",
    "# State (Q), input (R), and terminal state (QN) cost matrices\n",
    "Q = sparse(0.0*I(Nx))\n",
    "R = sparse(.01*I(Nu))\n",
    "QN = sparse(1000.0*I(Nx))\n",
    "\n",
    "Nmpc = 50   #MPC time horizon [s]  \n",
    "\n",
    "# Number of constraints \n",
    "Nd = (Nmpc+1)*(Nx+length(xmin)+length(umin)) - length(umin)\n",
    "\n",
    "Tfinal = 50             # Final time [s]\n",
    "Nt = Int(Tfinal/dt)+1   # Number of time steps\n",
    "\n",
    "x0 = [5.0, 5.0, 0.0, 0.0]   # Initial state (x, y, ̇x, ̇y)\n",
    "xf = [-5.0, -5.0, 0.0, 0.0] # Final state (x, y, ̇x, ̇y)\n",
    "ueq = zeros(2)              # Equilibrium inputs\n",
    "\n",
    "# Generate reference trajectory\n",
    "Xref = ALMPC.linear_trajectory(x0,xf,Nt,dt)     # Reference trajectory for all states\n",
    "Uref = [copy(ueq) for k = 1:Nt]                 # Reference inputs \n",
    "tref = range(0,Tfinal, length=Nt)               # Array of timesteps"
   ]
  },
  {
   "cell_type": "code",
   "execution_count": 5,
   "metadata": {},
   "outputs": [
    {
     "ename": "LoadError",
     "evalue": "UndefVarError: ALQPController not defined",
     "output_type": "error",
     "traceback": [
      "UndefVarError: ALQPController not defined",
      "",
      "Stacktrace:",
      " [1] getproperty(x::Module, f::Symbol)",
      "   @ Base ./Base.jl:26",
      " [2] top-level scope",
      "   @ In[5]:1",
      " [3] eval",
      "   @ ./boot.jl:360 [inlined]",
      " [4] include_string(mapexpr::typeof(REPL.softscope), mod::Module, code::String, filename::String)",
      "   @ Base ./loading.jl:1116"
     ]
    }
   ],
   "source": [
    "mpc1 = ALMPC.ALQPController(Nmpc, Q, R, QN, Ad, Bd, length(Xref), Nd)\n",
    "\n",
    "# Provide the reference trajectory\n",
    "mpc1.Xref .= Xref\n",
    "mpc1.Uref .= Uref\n",
    "mpc1.times .= tref\n",
    "\n",
    "# Build the sparse QP matrices\n",
    "ALMPC.buildQP!(mpc1, x0, xmin, xmax, umin, umax, tol=1e-6)\n",
    "\n",
    "Xmpc1,Umpc1,tmpc1 = ALMPC.OSQPSimulate(pointmass_dynamics, x0, mpc1, tf=50)\n",
    "\n",
    "@show Xref[end]\n",
    "@show Xmpc1[:,end]\n",
    "@test norm(Xmpc1[:,end] - Xref[end]) < 1e-2 \n",
    "@test max(Xmpc1[1,end]) < xmax[1]\n",
    "@test max(Xmpc1[2,end]) < xmax[2]\n",
    "@test max(Xmpc1[3,end]) < xmax[3]\n",
    "@test max(Xmpc1[4,end]) < xmax[4]\n",
    "@test max(Umpc1[1,end]) < umax[1]\n",
    "@test max(Umpc1[2,end]) < umax[2]\n",
    "\n",
    "@test min(Xmpc1[1,end]) > xmin[1]\n",
    "@test min(Xmpc1[2,end]) > xmin[2]\n",
    "@test min(Xmpc1[3,end]) > xmin[3]\n",
    "@test min(Xmpc1[4,end]) > xmin[4]\n",
    "@test min(Umpc1[1,end]) > umin[1]\n",
    "@test min(Umpc1[2,end]) > umin[2]\n"
   ]
  },
  {
   "cell_type": "code",
   "execution_count": null,
   "metadata": {},
   "outputs": [],
   "source": [
    "anim = @animate for i in 1:length(xhist1[1,:])\n",
    "    # plot([xref[1]*ones(size(thist))],\n",
    "    #     xlims = (0, 20), \n",
    "    #     ylims = (0, 10), \n",
    "    #     aspect_ratio = 1,\n",
    "    #     linestyle =:dash,\n",
    "    #     legend = false)\n",
    "    # plot!(thist, xhist1[1,:])\n",
    "    scatter([xhist1[1,i]],\n",
    "            [xhist1[2,i]], \n",
    "            m = (:circle, 6), \n",
    "            xlims = (0, 5),\n",
    "            ylims = (0, 5),\n",
    "            xlabel = \"x position [m]\",\n",
    "            ylabel = \"y position [m]\")\n",
    "\n",
    "    plot!([xref[1]], [xref[2]], m = (:cross, 6))\n",
    "end every 10;\n",
    "gif(anim, \"state_ref_MPC.gif\")"
   ]
  },
  {
   "cell_type": "code",
   "execution_count": null,
   "metadata": {},
   "outputs": [],
   "source": []
  }
 ],
 "metadata": {
  "kernelspec": {
   "display_name": "Julia 1.6.7",
   "language": "julia",
   "name": "julia-1.6"
  },
  "language_info": {
   "file_extension": ".jl",
   "mimetype": "application/julia",
   "name": "julia",
   "version": "1.6.7"
  },
  "orig_nbformat": 4
 },
 "nbformat": 4,
 "nbformat_minor": 2
}
